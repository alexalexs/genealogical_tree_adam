{
 "cells": [
  {
   "cell_type": "code",
   "execution_count": null,
   "metadata": {},
   "outputs": [],
   "source": [
    "import csv\n",
    "import jgraph as ig\n",
    "import json\n",
    "import plotly\n",
    "# if you want draw offline plot with plotly\n",
    "import plotly.offline as py\n",
    "import plotly.graph_objs as go\n",
    "# if you want draw online plot with plotly\n",
    "# import plotly.plotly as py\n",
    "# plotly.tools.set_credentials_file(username='********', api_key='**********')"
   ]
  },
  {
   "cell_type": "markdown",
   "metadata": {},
   "source": [
    "#### Structure of dict"
   ]
  },
  {
   "cell_type": "code",
   "execution_count": null,
   "metadata": {},
   "outputs": [],
   "source": [
    "# c={'nodes':[{'name':},{'name':}], <br>\n",
    "#     'links': [{'source': 1, 'target': 0, 'value': 1}]}  <br>"
   ]
  },
  {
   "cell_type": "markdown",
   "metadata": {},
   "source": [
    "<font size=\"4\">\n",
    "for more details see </font>\n",
    "<a href='https://plot.ly/python/3d-network-graph/'>ref</a>"
   ]
  },
  {
   "cell_type": "code",
   "execution_count": null,
   "metadata": {},
   "outputs": [],
   "source": [
    "def find_last(row, name):\n",
    "    # going from end to start and find first coincidence with 'name'\n",
    "    for a in row[::-1]:\n",
    "        if a['name'] == name:\n",
    "            return a['id']\n",
    "        else:\n",
    "            res = None\n",
    "    return res\n",
    "\n",
    "\n",
    "def row_transform(row, c_dict):\n",
    "    # transformation human reliability notation to dict with 'nodes' and 'links'\n",
    "    if c_dict == {}:\n",
    "        c_ = 0\n",
    "        # --------------nodes-----------------------------\n",
    "        c_dict['nodes'] = [{'name': i, 'id': c_, 'group': 1, 'size': 6}\n",
    "                           for c_, i in enumerate(row)]\n",
    "        # --------------links-----------------------------\n",
    "        c_dict['links'] = [{'source': 0, 'target': i, 'value': 1,\n",
    "                            'source_name': row[0], 'target_name':row[i]} for i in range(1, len(row))]\n",
    "    else:\n",
    "        for i in row[1::]:\n",
    "            # --------------nodes-----------------------------\n",
    "            c_ = len(c_dict['nodes'])\n",
    "            c_dict['nodes'].append(\n",
    "                {'name': i, 'id': c_, 'group': 1, 'size': 6})\n",
    "            # ---------links----------------------------------\n",
    "            res = find_last(c_dict['nodes'], row[0])\n",
    "            if res != None:\n",
    "                c_dict['links'].append({'source':\n",
    "                                        res,\n",
    "                                        'target': c_, 'value': 1,\n",
    "                                       'source_name': c_dict['nodes'][res]['name'],\n",
    "                                        'target_name': c_dict['nodes'][c_]['name']})\n",
    "            c_ += 1\n",
    "    return c_dict\n",
    "\n",
    "\n",
    "def preprocessing_(row, fname):\n",
    "    # creating  parent,child1_parent,child2_parent,... notation to avoid overlap due to equation parents name and child name\n",
    "    with open(fname, 'a') as f:\n",
    "        t_ = row[0]+','+','.join([i+'_'+row[0].split('_')[0]\n",
    "                                 for i in row[1::]])+'\\n'\n",
    "        f.write(t_)\n",
    "\n",
    "\n",
    "def check_collisions_(c_dict):\n",
    "    # collisions breaks up tree? check this\n",
    "    k = 1\n",
    "    check = {}\n",
    "    for i in c_dict['links'][::-1]:\n",
    "        k += 1\n",
    "        check[i['source_name']] = 'fail'\n",
    "        for j in c_dict['links'][::-1]:\n",
    "            if i['source_name'] == j['target_name']:\n",
    "                check[i['source_name']] = 'ok'\n",
    "        if check[i['source_name']] == 'fail':\n",
    "            print('gaps_warning:', i['source_name'])\n",
    "    return check\n",
    "\n",
    "\n",
    "def check_repetition_name_surname(fname):\n",
    "    # find repetition  pairs parent name and children names to mask this\n",
    "    a = []\n",
    "    with open(fname, newline='') as csvfile:\n",
    "        spamreader = csv.reader(csvfile, delimiter=',', quotechar='|')\n",
    "        for row in spamreader:\n",
    "            preprocessing_(row, fname_exp)\n",
    "            a.append(row[0])\n",
    "    d = {x: a.count(x) for x in a if a.count(x) > 1}\n",
    "    print('problem_nodes', d)\n",
    "\n",
    "\n",
    "def beacon(c_dict, tar_):\n",
    "    # find main line from Adam to Jesus Christ and select it\n",
    "    c_dict['nodes'][0]['size'] = 10\n",
    "    c_dict['nodes'][0]['group'] = 2\n",
    "    for i in range(len(c_dict['nodes'])-1, 1, -1):\n",
    "        c_dict['nodes'][i]['size'] = 6\n",
    "        if c_dict['nodes'][i]['name'] == tar_:\n",
    "            c_dict['nodes'][i]['group'] = 2\n",
    "            c_dict['nodes'][i]['size'] = 10\n",
    "            print(c_dict['nodes'][i]['group'])\n",
    "            for j in c_dict['links'][::-1]:\n",
    "                if j['target_name'] == tar_:\n",
    "                    tar_ = j['source_name']\n",
    "                    print(tar_)\n",
    "                    break\n",
    "\n",
    "    return c_dict\n"
   ]
  },
  {
   "cell_type": "markdown",
   "metadata": {},
   "source": [
    "#### Start from here"
   ]
  },
  {
   "cell_type": "code",
   "execution_count": null,
   "metadata": {},
   "outputs": [],
   "source": [
    "f = open('tree_explaned.txt', 'w')  # clear up file\n",
    "f.close()\n",
    "fname_exp = 'tree_explaned.txt'\n",
    "fname = 'Source.txt'"
   ]
  },
  {
   "cell_type": "code",
   "execution_count": null,
   "metadata": {},
   "outputs": [],
   "source": [
    "check_repetition_name_surname(fname)"
   ]
  },
  {
   "cell_type": "markdown",
   "metadata": {},
   "source": [
    "#### Create dict with nodes and links keys"
   ]
  },
  {
   "cell_type": "code",
   "execution_count": null,
   "metadata": {},
   "outputs": [],
   "source": [
    "with open(fname_exp, newline='') as csvfile:\n",
    "    spamreader = csv.reader(csvfile, delimiter=',', quotechar='|')\n",
    "    c_dict = {}\n",
    "    k_ = 0\n",
    "    for row in spamreader:\n",
    "        c_dict = row_transform(row, c_dict)"
   ]
  },
  {
   "cell_type": "code",
   "execution_count": null,
   "metadata": {},
   "outputs": [],
   "source": [
    "c_dict['links']"
   ]
  },
  {
   "cell_type": "markdown",
   "metadata": {},
   "source": [
    "#### Write to file, to make a possible to check data manually"
   ]
  },
  {
   "cell_type": "code",
   "execution_count": null,
   "metadata": {},
   "outputs": [],
   "source": [
    "with open('dict.txt', 'w') as f:\n",
    "    f.write(json.dumps(c_dict, ensure_ascii=False))"
   ]
  },
  {
   "cell_type": "markdown",
   "metadata": {},
   "source": [
    "#### Check gaps, gaps breaks up three"
   ]
  },
  {
   "cell_type": "code",
   "execution_count": null,
   "metadata": {},
   "outputs": [],
   "source": [
    "chk_ = check_collisions_(c_dict)"
   ]
  },
  {
   "cell_type": "code",
   "execution_count": null,
   "metadata": {},
   "outputs": [],
   "source": [
    "c_dict"
   ]
  },
  {
   "cell_type": "markdown",
   "metadata": {},
   "source": [
    "#### Beacon the main line"
   ]
  },
  {
   "cell_type": "code",
   "execution_count": null,
   "metadata": {
    "scrolled": true
   },
   "outputs": [],
   "source": [
    "c_ = beacon(c_dict, 'Иисус Христос_Мария')\n",
    "c_"
   ]
  },
  {
   "cell_type": "code",
   "execution_count": null,
   "metadata": {},
   "outputs": [],
   "source": [
    "data = c_"
   ]
  },
  {
   "cell_type": "markdown",
   "metadata": {},
   "source": [
    "#### Using jgraph to generate coordinates"
   ]
  },
  {
   "cell_type": "code",
   "execution_count": null,
   "metadata": {},
   "outputs": [],
   "source": [
    "N = len(data['nodes'])\n",
    "\n",
    "L = len(data['links'])\n",
    "Edges = [(data['links'][k]['source'], data['links'][k]['target'])\n",
    "         for k in range(L)]\n",
    "\n",
    "layt = ig.generate(Edges, iterations=100)  # to debug use small iteration"
   ]
  },
  {
   "cell_type": "markdown",
   "metadata": {},
   "source": [
    "#### Drawing the graph with jgraph"
   ]
  },
  {
   "cell_type": "code",
   "execution_count": null,
   "metadata": {},
   "outputs": [],
   "source": [
    "G = ig.draw(Edges, directed=False)"
   ]
  },
  {
   "cell_type": "markdown",
   "metadata": {},
   "source": [
    "#### Padding acquired coordinates to scatter 3d plot in plotly"
   ]
  },
  {
   "cell_type": "code",
   "execution_count": null,
   "metadata": {},
   "outputs": [],
   "source": [
    "labels = []\n",
    "group = []\n",
    "size_ = []\n",
    "\n",
    "Xn = []\n",
    "Yn = []\n",
    "Zn = []\n"
   ]
  },
  {
   "cell_type": "code",
   "execution_count": null,
   "metadata": {},
   "outputs": [],
   "source": [
    "for k, node in enumerate(data['nodes']):\n",
    "    labels.append(node['name'].split('_')[0].split('(')[0])\n",
    "    group.append(node['group'])\n",
    "    size_.append(node['size'])\n",
    "\n",
    "    Xn.append(layt['nodes'][k]['location'][0])  # x-coordinates of nodes\n",
    "    Yn.append(layt['nodes'][k]['location'][1])  # y-coordinates\n",
    "    Zn.append(layt['nodes'][k]['location'][2])  # z-coordinates\n"
   ]
  },
  {
   "cell_type": "code",
   "execution_count": null,
   "metadata": {},
   "outputs": [],
   "source": [
    "Xe = []\n",
    "Ye = []\n",
    "Ze = []\n",
    "for e in Edges:\n",
    "    Xe += [layt['nodes'][e[0]]['location'][0], layt['nodes']\n",
    "           [e[1]]['location'][0], None]  # x-coordinates of edge ends\n",
    "    Ye += [layt['nodes'][e[0]]['location'][1],\n",
    "           layt['nodes'][e[1]]['location'][1], None]\n",
    "    Ze += [layt['nodes'][e[0]]['location'][2],\n",
    "           layt['nodes'][e[1]]['location'][2], None]\n"
   ]
  },
  {
   "cell_type": "code",
   "execution_count": null,
   "metadata": {},
   "outputs": [],
   "source": [
    "trace1 = go.Scatter3d(x=Xe,\n",
    "                      y=Ye,\n",
    "                      z=Ze,\n",
    "                      mode='lines',\n",
    "                      line=dict(color='rgb(125,125,125)', width=1),\n",
    "                      hoverinfo='none'\n",
    "                      )\n",
    "\n",
    "trace2 = go.Scatter3d(x=Xn,\n",
    "                      y=Yn,\n",
    "                      z=Zn,\n",
    "                      mode='markers+text',\n",
    "                      name='actors',\n",
    "                      marker=dict(symbol='circle',\n",
    "                                  size=size_,\n",
    "                                  color=group,\n",
    "                                  colorscale='Viridis',\n",
    "                                  line=dict(color='rgb(50,50,50)', width=0.5)\n",
    "                                  ),\n",
    "                      text=labels,\n",
    "                      hoverinfo='text'\n",
    "                      )\n",
    "\n",
    "axis = dict(showbackground=False,\n",
    "            showline=False,\n",
    "            zeroline=False,\n",
    "            showgrid=False,\n",
    "            showticklabels=False,\n",
    "            title=''\n",
    "            )\n",
    "\n",
    "layout = go.Layout(\n",
    "    title=\"Генеалогическое древо от Адама до Иисуса Христа\",\n",
    "    width=1000,\n",
    "    height=1000,\n",
    "    showlegend=False,\n",
    "    scene=dict(\n",
    "        xaxis=dict(axis),\n",
    "        yaxis=dict(axis),\n",
    "        zaxis=dict(axis),\n",
    "    ),\n",
    "    margin=dict(\n",
    "        t=100\n",
    "    ),\n",
    "    hovermode='closest',\n",
    "    annotations=[\n",
    "        dict(\n",
    "            showarrow=False,\n",
    "            text=\"Data source: <a href='https://azbyka.ru/shemy/genealogicheskoe-drevo-ot-adama-i-evy-do-iisusa-khrista.shtml'>ref</a>\",\n",
    "            xref='paper',\n",
    "            yref='paper',\n",
    "            x=0,\n",
    "            y=0.1,\n",
    "            xanchor='left',\n",
    "            yanchor='bottom',\n",
    "            font=dict(\n",
    "                size=14\n",
    "            )\n",
    "        )\n",
    "    ],)\n",
    "\n",
    "data = [trace1, trace2]\n"
   ]
  },
  {
   "cell_type": "markdown",
   "metadata": {},
   "source": [
    "#### Drawing plot with plotly"
   ]
  },
  {
   "cell_type": "code",
   "execution_count": null,
   "metadata": {},
   "outputs": [],
   "source": [
    "# plot to file\n",
    "# fig=go.FigureWidget(data=data, layout=layout)\n",
    "# py.plot(fig, filename='Adam.html')"
   ]
  },
  {
   "cell_type": "code",
   "execution_count": null,
   "metadata": {},
   "outputs": [],
   "source": [
    "# plot online\n",
    "# fig=go.Figure(data=data, layout=layout)\n",
    "# py.iplot(fig, filename='Adam_tree.html')"
   ]
  },
  {
   "cell_type": "code",
   "execution_count": null,
   "metadata": {},
   "outputs": [],
   "source": [
    "# plot in notebook\n",
    "fig = go.FigureWidget(data=data, layout=layout)\n",
    "display(fig)"
   ]
  }
 ],
 "metadata": {
  "kernelspec": {
   "display_name": "python3.10",
   "language": "python",
   "name": "python3.10"
  },
  "language_info": {
   "codemirror_mode": {
    "name": "ipython",
    "version": 3
   },
   "file_extension": ".py",
   "mimetype": "text/x-python",
   "name": "python",
   "nbconvert_exporter": "python",
   "pygments_lexer": "ipython3",
   "version": "3.10.4"
  },
  "toc": {
   "base_numbering": 1,
   "nav_menu": {
    "height": "59px",
    "width": "278px"
   },
   "number_sections": false,
   "sideBar": false,
   "skip_h1_title": false,
   "title_cell": "Table of Contents",
   "title_sidebar": "Contents",
   "toc_cell": false,
   "toc_position": {},
   "toc_section_display": false,
   "toc_window_display": false
  }
 },
 "nbformat": 4,
 "nbformat_minor": 2
}
